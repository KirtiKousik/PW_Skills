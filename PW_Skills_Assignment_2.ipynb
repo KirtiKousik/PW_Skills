{
  "nbformat": 4,
  "nbformat_minor": 0,
  "metadata": {
    "colab": {
      "provenance": [],
      "authorship_tag": "ABX9TyNEEgAKXtqkCm/8DTQ7KJDx",
      "include_colab_link": true
    },
    "kernelspec": {
      "name": "python3",
      "display_name": "Python 3"
    },
    "language_info": {
      "name": "python"
    }
  },
  "cells": [
    {
      "cell_type": "markdown",
      "metadata": {
        "id": "view-in-github",
        "colab_type": "text"
      },
      "source": [
        "<a href=\"https://colab.research.google.com/github/KirtiKousik/PW_Skills/blob/main/PW_Skills_Assignment_2.ipynb\" target=\"_parent\"><img src=\"https://colab.research.google.com/assets/colab-badge.svg\" alt=\"Open In Colab\"/></a>"
      ]
    },
    {
      "cell_type": "markdown",
      "source": [
        "# 1. Write a program to accept percentage from the user and display the grade according to the following criteria:\n",
        "\n",
        "- If marks > 90  Grade = A\n",
        "\n",
        "- If marks >80 and <=90  Grade = B\n",
        "\n",
        "- If marks >60 and <=80  Grade = C\n",
        "\n",
        "- If marks below 60  Grade = D"
      ],
      "metadata": {
        "id": "k_2LqASIwPSS"
      }
    },
    {
      "cell_type": "code",
      "source": [
        "mark = float(input('Enter your marks: '))\n",
        "if 100 < mark or mark < 0: print('Enter the correct marks!')\n",
        "elif mark > 90: print('Your grade is A.')\n",
        "elif 80 < mark <= 90: print('Your grade is B.')\n",
        "elif 60 < mark <= 80: print('Your grade is C.')\n",
        "else : print('Your grade is D.')"
      ],
      "metadata": {
        "colab": {
          "base_uri": "https://localhost:8080/"
        },
        "id": "sILB1sshxOGi",
        "outputId": "50333df1-7e53-4c43-f5c4-4f12ca0a64c6"
      },
      "execution_count": 11,
      "outputs": [
        {
          "output_type": "stream",
          "name": "stdout",
          "text": [
            "Enter your marks: 74\n",
            "Your grade is C.\n"
          ]
        }
      ]
    },
    {
      "cell_type": "markdown",
      "source": [
        "# 2. Write a program to accept the cost price of a bike and display the road tax to be paid according to the following criteria:\n",
        "\n",
        "- If cost price(in Rs) > 100000 then Tax = 15%\n",
        "\n",
        "- If 50000 < cost price(in Rs) <= 100000 then Tax = 10%\n",
        "\n",
        "- If cost price(in Rs) <= 50000 then Tax = 5%\n"
      ],
      "metadata": {
        "id": "Xg_Moe1szIRI"
      }
    },
    {
      "cell_type": "code",
      "source": [
        "bike_price = int(input('Enter the price of the bike: '))\n",
        "\n",
        "if bike_price > 100000:\n",
        "    print(f'The road tax to be paid = {bike_price * 15/100} Rs')\n",
        "elif 50000 < bike_price <= 100000:\n",
        "    print(f'The road tax to be paid = {bike_price * 10/100} Rs')\n",
        "elif 50000 <= bike_price:\n",
        "    print(f'The road tax to be paid = {bike_price * 5/100} Rs')"
      ],
      "metadata": {
        "colab": {
          "base_uri": "https://localhost:8080/"
        },
        "id": "nosqmIPQyBEC",
        "outputId": "e9b06055-608d-4560-d11d-23f8f72e014c"
      },
      "execution_count": 12,
      "outputs": [
        {
          "output_type": "stream",
          "name": "stdout",
          "text": [
            "Enter the price of the bike: 189000\n",
            "The road tax to be paid = 28350.0 Rs\n"
          ]
        }
      ]
    },
    {
      "cell_type": "markdown",
      "source": [
        "# 3. Accept any city from the user and display monuments of that city.\n",
        "\n",
        "- if city = Delhi then monument = Red Fort\n",
        "\n",
        "- if city = Agra then monument = Taj Mahal\n",
        "\n",
        "- if city = Jaipur then monument = Jal Mahal"
      ],
      "metadata": {
        "id": "Z3uBFeof4VjX"
      }
    },
    {
      "cell_type": "code",
      "source": [
        "city = input('Enter the city name: ')\n",
        "if city.lower() == 'delhi': print('The monument is Red Fort.')\n",
        "elif city.lower() == 'agra': print('The monument is Taj Mahal.')\n",
        "elif city.lower() == 'jaipur': print('The monument is Jal Mahal.')\n",
        "else: print(\"Go for a google search, I don't know everything.\")"
      ],
      "metadata": {
        "colab": {
          "base_uri": "https://localhost:8080/"
        },
        "id": "QPofJ3eT38ts",
        "outputId": "47edb60b-61c4-4cba-8048-d3987870c49d"
      },
      "execution_count": 16,
      "outputs": [
        {
          "output_type": "stream",
          "name": "stdout",
          "text": [
            "Enter the city name: jaipur\n",
            "The monument is Jal Mahal.\n"
          ]
        }
      ]
    },
    {
      "cell_type": "markdown",
      "source": [
        "# 4. Check how many times a given number can be divided by 3 before it is less than or equal to 10.\n"
      ],
      "metadata": {
        "id": "YDsd0AWG6IVy"
      }
    },
    {
      "cell_type": "code",
      "source": [
        "num = int(input('Enter a number: '))\n",
        "count = 0\n",
        "while(num > 10):\n",
        "    num = num/3\n",
        "    count += 1\n",
        "\n",
        "print(f\"The number can be divided {count} times by three before it is less than or equal to 10.\")"
      ],
      "metadata": {
        "colab": {
          "base_uri": "https://localhost:8080/"
        },
        "id": "qSWAChLH5aiS",
        "outputId": "4344fbc9-7511-4e13-fd67-4316e8d795a6"
      },
      "execution_count": 27,
      "outputs": [
        {
          "output_type": "stream",
          "name": "stdout",
          "text": [
            "Enter a number: 777\n",
            "The number can be divided 4 times by three before it is less than or equal to 10.\n"
          ]
        }
      ]
    },
    {
      "cell_type": "markdown",
      "source": [
        "# 5. Why and When to Use while Loop in Python give a detailed description with example\n"
      ],
      "metadata": {
        "id": "5ZrOv7VN_Rkp"
      }
    },
    {
      "cell_type": "markdown",
      "source": [
        "- The while loop in Python is used to repeatedly execute a block of code as long as a certain condition is met. The loop continues to execute as long as the condition is True."
      ],
      "metadata": {
        "id": "xl8H17OI_3-E"
      }
    },
    {
      "cell_type": "code",
      "source": [
        "# Here's a simple example that demonstrates the use of a while loop:\n",
        "\n",
        "count = 1\n",
        "\n",
        "while count <= 5:\n",
        "    print(count)\n",
        "    count += 1"
      ],
      "metadata": {
        "colab": {
          "base_uri": "https://localhost:8080/"
        },
        "id": "oyLunIE4_RAX",
        "outputId": "ccb2da8b-5134-46a2-c72c-bd0570441f66"
      },
      "execution_count": 28,
      "outputs": [
        {
          "output_type": "stream",
          "name": "stdout",
          "text": [
            "1\n",
            "2\n",
            "3\n",
            "4\n",
            "5\n"
          ]
        }
      ]
    },
    {
      "cell_type": "markdown",
      "source": [
        "- The while loop is useful when you want to repeat a block of code an unknown number of times, until a certain condition is met. For example, you could use a while loop to keep asking a user for input until they enter a valid response:"
      ],
      "metadata": {
        "id": "gouNNCR4AKTL"
      }
    },
    {
      "cell_type": "code",
      "source": [
        "response = \"\"\n",
        "\n",
        "while response != \"yes\":\n",
        "    response = input(\"Do you want to quit? (yes/no) \")"
      ],
      "metadata": {
        "colab": {
          "base_uri": "https://localhost:8080/"
        },
        "id": "q2ga8tsM-6Em",
        "outputId": "169635fd-b5b4-4fea-ea5c-38b6f6f9bb07"
      },
      "execution_count": 30,
      "outputs": [
        {
          "name": "stdout",
          "output_type": "stream",
          "text": [
            "Do you want to quit? (yes/no) no\n",
            "Do you want to quit? (yes/no) no\n",
            "Do you want to quit? (yes/no) yes\n"
          ]
        }
      ]
    },
    {
      "cell_type": "markdown",
      "source": [
        "# 6. Use nested while loop to print 3 different pattern.\n"
      ],
      "metadata": {
        "id": "ZUKimz_tAizt"
      }
    },
    {
      "cell_type": "code",
      "source": [
        "# Pattern 1:\n",
        "# 1\n",
        "# 12\n",
        "# 123\n",
        "# 1234\n",
        "# 12345\n",
        "\n",
        "print('Pattern-1\\n')\n",
        "i = 1\n",
        "while i <= 5:\n",
        "    j = 1\n",
        "    while j <= i:\n",
        "        print(j, end=\"\")\n",
        "        j += 1\n",
        "    print(\"\")\n",
        "    i += 1\n",
        "print('\\n')\n",
        "\n",
        "# Pattern 2:\n",
        "# 54321\n",
        "# 4321\n",
        "# 321\n",
        "# 21\n",
        "# 1\n",
        "print('Pattern-2\\n')\n",
        "i = 5\n",
        "while i >= 1:\n",
        "    j = i\n",
        "    while j >= 1:\n",
        "        print(j, end=\"\")\n",
        "        j -= 1\n",
        "    print(\"\")\n",
        "    i -= 1\n",
        "print('\\n')\n",
        "\n",
        "# Pattern 3:\n",
        "# 1\n",
        "# 22\n",
        "# 333\n",
        "# 4444\n",
        "# 55555\n",
        "\n",
        "print('Pattern-3\\n')\n",
        "i = 1\n",
        "while i <= 5:\n",
        "    j = 1\n",
        "    while j <= i:\n",
        "        print(i, end=\"\")\n",
        "        j += 1\n",
        "    print(\"\")\n",
        "    i += 1"
      ],
      "metadata": {
        "colab": {
          "base_uri": "https://localhost:8080/"
        },
        "id": "QIZoB3eOAQbF",
        "outputId": "139622c9-12e8-430b-b65d-12498c4cd82a"
      },
      "execution_count": 37,
      "outputs": [
        {
          "output_type": "stream",
          "name": "stdout",
          "text": [
            "Pattern-1\n",
            "\n",
            "1\n",
            "12\n",
            "123\n",
            "1234\n",
            "12345\n",
            "\n",
            "\n",
            "Pattern-2\n",
            "\n",
            "54321\n",
            "4321\n",
            "321\n",
            "21\n",
            "1\n",
            "\n",
            "\n",
            "Pattern-3\n",
            "\n",
            "1\n",
            "22\n",
            "333\n",
            "4444\n",
            "55555\n"
          ]
        }
      ]
    },
    {
      "cell_type": "markdown",
      "source": [
        "# 7. Reverse a while loop to display numbers from 10 to 1."
      ],
      "metadata": {
        "id": "JVKm83bIBa2q"
      }
    },
    {
      "cell_type": "code",
      "source": [
        "count = 10\n",
        "\n",
        "while count >= 1:\n",
        "    print(count)\n",
        "    count -= 1"
      ],
      "metadata": {
        "colab": {
          "base_uri": "https://localhost:8080/"
        },
        "id": "iTGDk7EBAzoJ",
        "outputId": "ed5129de-7fbe-4d2f-f0e9-82c4eb3c78fc"
      },
      "execution_count": 38,
      "outputs": [
        {
          "output_type": "stream",
          "name": "stdout",
          "text": [
            "10\n",
            "9\n",
            "8\n",
            "7\n",
            "6\n",
            "5\n",
            "4\n",
            "3\n",
            "2\n",
            "1\n"
          ]
        }
      ]
    },
    {
      "cell_type": "markdown",
      "source": [
        "# 8. Reverse a while loop to display numbers from 10 to 1"
      ],
      "metadata": {
        "id": "gIbThrAhBrMI"
      }
    },
    {
      "cell_type": "code",
      "source": [
        "count = 10\n",
        "\n",
        "while count >= 1:\n",
        "    print(count)\n",
        "    count -= 1"
      ],
      "metadata": {
        "colab": {
          "base_uri": "https://localhost:8080/"
        },
        "id": "ClF00MgUBnrN",
        "outputId": "8a74665e-e936-4212-e7eb-f884325117e4"
      },
      "execution_count": 39,
      "outputs": [
        {
          "output_type": "stream",
          "name": "stdout",
          "text": [
            "10\n",
            "9\n",
            "8\n",
            "7\n",
            "6\n",
            "5\n",
            "4\n",
            "3\n",
            "2\n",
            "1\n"
          ]
        }
      ]
    },
    {
      "cell_type": "code",
      "source": [],
      "metadata": {
        "id": "CmzUwrgcCAN9"
      },
      "execution_count": null,
      "outputs": []
    }
  ]
}